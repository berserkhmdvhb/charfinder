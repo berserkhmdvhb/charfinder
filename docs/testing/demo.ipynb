{
 "cells": [
  {
   "cell_type": "code",
   "execution_count": 4,
   "id": "ce7d3040",
   "metadata": {},
   "outputs": [],
   "source": [
    "import sys\n",
    "import os\n",
    "\n",
    "# Dynamically append the src directory to sys.path\n",
    "## Go two folders up from docs/testing\n",
    "project_root = os.path.abspath(os.path.join(os.getcwd(), \"..\", \"..\"))  \n",
    "src_path = os.path.join(project_root, \"src\")\n",
    "if src_path not in sys.path:\n",
    "    sys.path.insert(0, src_path)\n",
    "\n",
    "from core import find_chars"
   ]
  },
  {
   "cell_type": "code",
   "execution_count": 5,
   "id": "c23c899b",
   "metadata": {},
   "outputs": [
    {
     "name": "stdout",
     "output_type": "stream",
     "text": [
      "INFO: [INFO] Loaded Unicode name cache from: unicode_name_cache.json\n",
      "INFO: [INFO] Found 3 match(es) for query: 'snowman'\n",
      "U+2603\t☃\tSNOWMAN  (\\u2603)\n",
      "U+26C4\t⛄\tSNOWMAN WITHOUT SNOW  (\\u26c4)\n",
      "U+26C7\t⛇\tBLACK SNOWMAN  (\\u26c7)\n"
     ]
    }
   ],
   "source": [
    "for line in find_chars(\"snowman\"):\n",
    "    print(line)"
   ]
  },
  {
   "cell_type": "code",
   "execution_count": 6,
   "id": "2ecf0dd2",
   "metadata": {},
   "outputs": [
    {
     "name": "stdout",
     "output_type": "stream",
     "text": [
      "'U+2619\\t☙\\tREVERSED ROTATED FLORAL HEART BULLET  (\\\\u2619)'\n",
      "'U+2661\\t♡\\tWHITE HEART SUIT  (\\\\u2661)'\n",
      "'U+2665\\t♥\\tBLACK HEART SUIT  (\\\\u2665)'\n"
     ]
    }
   ],
   "source": [
    "for line in list(find_chars(\"heart\", verbose=False))[:3]:\n",
    "    print(repr(line))"
   ]
  },
  {
   "cell_type": "code",
   "execution_count": 8,
   "id": "7f382633",
   "metadata": {},
   "outputs": [
    {
     "data": {
      "text/plain": [
       "['U+2603\\t☃\\tSNOWMAN  (\\\\u2603)',\n",
       " 'U+26C4\\t⛄\\tSNOWMAN WITHOUT SNOW  (\\\\u26c4)',\n",
       " 'U+26C7\\t⛇\\tBLACK SNOWMAN  (\\\\u26c7)']"
      ]
     },
     "execution_count": 8,
     "metadata": {},
     "output_type": "execute_result"
    }
   ],
   "source": [
    "results = list(find_chars(\"snowman\", verbose=False))\n",
    "results"
   ]
  },
  {
   "cell_type": "code",
   "execution_count": 9,
   "id": "472cf33d",
   "metadata": {},
   "outputs": [],
   "source": [
    "assert any(\"SNOWMAN\" in line for line in results)"
   ]
  },
  {
   "cell_type": "code",
   "execution_count": 10,
   "id": "cc931477",
   "metadata": {},
   "outputs": [],
   "source": [
    "assert any(\"U+2603\" in line and \"☃\" in line for line in results)"
   ]
  },
  {
   "cell_type": "code",
   "execution_count": null,
   "id": "4d50de1e",
   "metadata": {},
   "outputs": [],
   "source": []
  }
 ],
 "metadata": {
  "kernelspec": {
   "display_name": ".venv",
   "language": "python",
   "name": "python3"
  },
  "language_info": {
   "codemirror_mode": {
    "name": "ipython",
    "version": 3
   },
   "file_extension": ".py",
   "mimetype": "text/x-python",
   "name": "python",
   "nbconvert_exporter": "python",
   "pygments_lexer": "ipython3",
   "version": "3.13.0"
  }
 },
 "nbformat": 4,
 "nbformat_minor": 5
}
