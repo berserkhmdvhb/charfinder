{
 "cells": [
  {
   "cell_type": "code",
   "execution_count": 38,
   "id": "ce7d3040",
   "metadata": {},
   "outputs": [],
   "source": [
    "import sys\n",
    "import os\n",
    "import subprocess\n",
    "# Add src directory to Python path so you can import core.py\n",
    "sys.path.insert(0, os.path.abspath(os.path.join(os.path.dirname(\"..\"), \"..\", \"src\")))\n",
    "\n",
    "from core import find_chars"
   ]
  },
  {
   "cell_type": "code",
   "execution_count": 39,
   "id": "dd55c8d9",
   "metadata": {},
   "outputs": [],
   "source": [
    "import subprocess\n",
    "import sys\n",
    "import os\n",
    "\n",
    "# Define CLI script path (adjust relative to current notebook location)\n",
    "CLI_SCRIPT = os.path.abspath(os.path.join(\"..\", \"..\", \"src\", \"cli.py\"))\n",
    "\n",
    "def run_example(title: str, args: list[str], show_exit_code: bool = True) -> None:\n",
    "    \"\"\"Run the CLI tool with given arguments and display output nicely.\"\"\"\n",
    "    print(f\"\\n=== 📌 {title} ===\")\n",
    "\n",
    "    result = subprocess.run(\n",
    "        [sys.executable, CLI_SCRIPT] + args,\n",
    "        capture_output=True,\n",
    "        text=True,\n",
    "        encoding=\"utf-8\"\n",
    "    )\n",
    "\n",
    "    stdout = result.stdout.strip()\n",
    "    stderr = result.stderr.strip()\n",
    "\n",
    "    if stdout:\n",
    "        print(\"📤 STDOUT:\\n\" + stdout)\n",
    "    else:\n",
    "        print(\"📤 STDOUT: (no output)\")\n",
    "\n",
    "    if stderr:\n",
    "        print(\"⚠️ STDERR:\\n\" + stderr)\n",
    "\n",
    "    if show_exit_code:\n",
    "        print(f\"🔚 EXIT CODE: {result.returncode}\")\n"
   ]
  },
  {
   "cell_type": "code",
   "execution_count": 40,
   "id": "c23c899b",
   "metadata": {},
   "outputs": [
    {
     "name": "stdout",
     "output_type": "stream",
     "text": [
      "INFO: [INFO] Loaded Unicode name cache from: unicode_name_cache.json\n",
      "INFO: [INFO] Found 3 match(es) for query: 'snowman'\n",
      "U+2603\t☃\tSNOWMAN  (\\u2603)\n",
      "U+26C4\t⛄\tSNOWMAN WITHOUT SNOW  (\\u26c4)\n",
      "U+26C7\t⛇\tBLACK SNOWMAN  (\\u26c7)\n"
     ]
    }
   ],
   "source": [
    "for line in find_chars(\"snowman\"):\n",
    "    print(line)"
   ]
  },
  {
   "cell_type": "code",
   "execution_count": 41,
   "id": "2ecf0dd2",
   "metadata": {},
   "outputs": [
    {
     "name": "stdout",
     "output_type": "stream",
     "text": [
      "'U+2619\\t☙\\tREVERSED ROTATED FLORAL HEART BULLET  (\\\\u2619)'\n",
      "'U+2661\\t♡\\tWHITE HEART SUIT  (\\\\u2661)'\n",
      "'U+2665\\t♥\\tBLACK HEART SUIT  (\\\\u2665)'\n"
     ]
    }
   ],
   "source": [
    "for line in list(find_chars(\"heart\", verbose=False))[:3]:\n",
    "    print(repr(line))"
   ]
  },
  {
   "cell_type": "code",
   "execution_count": 42,
   "id": "7f382633",
   "metadata": {},
   "outputs": [
    {
     "data": {
      "text/plain": [
       "['U+2603\\t☃\\tSNOWMAN  (\\\\u2603)',\n",
       " 'U+26C4\\t⛄\\tSNOWMAN WITHOUT SNOW  (\\\\u26c4)',\n",
       " 'U+26C7\\t⛇\\tBLACK SNOWMAN  (\\\\u26c7)']"
      ]
     },
     "execution_count": 42,
     "metadata": {},
     "output_type": "execute_result"
    }
   ],
   "source": [
    "results = list(find_chars(\"snowman\", verbose=False))\n",
    "results"
   ]
  },
  {
   "cell_type": "code",
   "execution_count": 43,
   "id": "472cf33d",
   "metadata": {},
   "outputs": [],
   "source": [
    "assert any(\"SNOWMAN\" in line for line in results)"
   ]
  },
  {
   "cell_type": "code",
   "execution_count": 44,
   "id": "cc931477",
   "metadata": {},
   "outputs": [],
   "source": [
    "assert any(\"U+2603\" in line and \"☃\" in line for line in results)"
   ]
  },
  {
   "cell_type": "markdown",
   "id": "8b75201e",
   "metadata": {},
   "source": [
    "### Unit Tests"
   ]
  },
  {
   "cell_type": "code",
   "execution_count": 45,
   "id": "56db721f",
   "metadata": {},
   "outputs": [
    {
     "name": "stdout",
     "output_type": "stream",
     "text": [
      "\u001b[1m============================= test session starts =============================\u001b[0m\n",
      "platform win32 -- Python 3.13.0, pytest-8.3.5, pluggy-1.5.0 -- c:\\Users\\HamedVAHEB\\Documents\\Projects\\Python\\CharFinder\\repo\\charfinder\\.venv\\Scripts\\python.exe\n",
      "cachedir: .pytest_cache\n",
      "rootdir: c:\\Users\\HamedVAHEB\\Documents\\Projects\\Python\\CharFinder\\repo\\charfinder\n",
      "configfile: pyproject.toml\n",
      "\u001b[1mcollecting ... \u001b[0mcollected 31 items\n",
      "\n",
      "..\\test_cli.py::test_cli_strict_match \u001b[32mPASSED\u001b[0m\u001b[32m                             [  3%]\u001b[0m\n",
      "..\\test_cli.py::test_cli_fuzzy_match \u001b[32mPASSED\u001b[0m\u001b[32m                              [  6%]\u001b[0m\n",
      "..\\test_cli.py::test_cli_threshold_loose \u001b[32mPASSED\u001b[0m\u001b[32m                          [  9%]\u001b[0m\n",
      "..\\test_cli.py::test_cli_threshold_strict \u001b[32mPASSED\u001b[0m\u001b[32m                         [ 12%]\u001b[0m\n",
      "..\\test_cli.py::test_cli_invalid_threshold \u001b[32mPASSED\u001b[0m\u001b[32m                        [ 16%]\u001b[0m\n",
      "..\\test_cli.py::test_cli_empty_query \u001b[32mPASSED\u001b[0m\u001b[32m                              [ 19%]\u001b[0m\n",
      "..\\test_cli.py::test_cli_unknown_flag \u001b[32mPASSED\u001b[0m\u001b[32m                             [ 22%]\u001b[0m\n",
      "..\\test_cli.py::test_cli_output_alignment \u001b[32mPASSED\u001b[0m\u001b[32m                         [ 25%]\u001b[0m\n",
      "..\\test_lib.py::test_strict_match \u001b[32mPASSED\u001b[0m\u001b[32m                                 [ 29%]\u001b[0m\n",
      "..\\test_lib.py::test_strict_match_case_insensitive \u001b[32mPASSED\u001b[0m\u001b[32m                [ 32%]\u001b[0m\n",
      "..\\test_lib.py::test_strict_match_accented \u001b[32mPASSED\u001b[0m\u001b[32m                        [ 35%]\u001b[0m\n",
      "..\\test_lib.py::test_no_match_without_fuzzy \u001b[32mPASSED\u001b[0m\u001b[32m                       [ 38%]\u001b[0m\n",
      "..\\test_lib.py::test_fuzzy_match \u001b[32mPASSED\u001b[0m\u001b[32m                                  [ 41%]\u001b[0m\n",
      "..\\test_lib.py::test_fuzzy_does_not_override_strict \u001b[32mPASSED\u001b[0m\u001b[32m               [ 45%]\u001b[0m\n",
      "..\\test_lib.py::test_output_format_fields \u001b[32mPASSED\u001b[0m\u001b[32m                         [ 48%]\u001b[0m\n",
      "..\\test_lib.py::test_unicode_escape_format \u001b[32mPASSED\u001b[0m\u001b[32m                        [ 51%]\u001b[0m\n",
      "..\\test_lib.py::test_normalization_function \u001b[32mPASSED\u001b[0m\u001b[32m                       [ 54%]\u001b[0m\n",
      "..\\test_lib.py::test_name_cache_exists \u001b[32mPASSED\u001b[0m\u001b[32m                            [ 58%]\u001b[0m\n",
      "..\\test_lib.py::test_multiple_matches \u001b[32mPASSED\u001b[0m\u001b[32m                             [ 61%]\u001b[0m\n",
      "..\\test_lib.py::test_nfkd_decomposition_behavior \u001b[32mPASSED\u001b[0m\u001b[32m                  [ 64%]\u001b[0m\n",
      "..\\test_lib.py::test_fuzzy_threshold_effect \u001b[32mPASSED\u001b[0m\u001b[32m                       [ 67%]\u001b[0m\n",
      "..\\test_lib.py::test_fuzzy_threshold_too_strict_returns_none \u001b[32mPASSED\u001b[0m\u001b[32m      [ 70%]\u001b[0m\n",
      "..\\test_lib.py::test_fuzzy_threshold_default_matches_explicit \u001b[32mPASSED\u001b[0m\u001b[32m     [ 74%]\u001b[0m\n",
      "..\\test_lib.py::test_empty_query_returns_nothing \u001b[32mPASSED\u001b[0m\u001b[32m                  [ 77%]\u001b[0m\n",
      "..\\test_lib.py::test_non_string_query_raises_typeerror \u001b[32mPASSED\u001b[0m\u001b[32m            [ 80%]\u001b[0m\n",
      "..\\test_lib.py::test_large_batch_query_execution[arrow] \u001b[32mPASSED\u001b[0m\u001b[32m           [ 83%]\u001b[0m\n",
      "..\\test_lib.py::test_large_batch_query_execution[face] \u001b[32mPASSED\u001b[0m\u001b[32m            [ 87%]\u001b[0m\n",
      "..\\test_lib.py::test_large_batch_query_execution[hand] \u001b[32mPASSED\u001b[0m\u001b[32m            [ 90%]\u001b[0m\n",
      "..\\test_lib.py::test_large_batch_query_execution[circle] \u001b[32mPASSED\u001b[0m\u001b[32m          [ 93%]\u001b[0m\n",
      "..\\test_lib.py::test_large_batch_query_execution[star] \u001b[32mPASSED\u001b[0m\u001b[32m            [ 96%]\u001b[0m\n",
      "..\\test_lib.py::test_large_batch_query_execution[square] \u001b[32mPASSED\u001b[0m\u001b[32m          [100%]\u001b[0m\n",
      "\n",
      "\u001b[32m============================= \u001b[32m\u001b[1m31 passed\u001b[0m\u001b[32m in 9.25s\u001b[0m\u001b[32m ==============================\u001b[0m\n"
     ]
    },
    {
     "data": {
      "text/plain": [
       "<ExitCode.OK: 0>"
      ]
     },
     "execution_count": 45,
     "metadata": {},
     "output_type": "execute_result"
    }
   ],
   "source": [
    "import pytest\n",
    "#pytest.main([\"tests\", \"-v\", \"--maxfail=1\", \"--disable-warnings\", \"--color=yes\"])\n",
    "# Run all tests\n",
    "pytest.main([\"../\", \"-v\", \"--maxfail=1\"])  # This tells pytest to look in the /tests directory"
   ]
  },
  {
   "cell_type": "markdown",
   "id": "076729d8",
   "metadata": {},
   "source": [
    "### Examples"
   ]
  },
  {
   "cell_type": "markdown",
   "id": "04f3eef0",
   "metadata": {},
   "source": [
    "**Example 1:** Basic strict match — \"heart\""
   ]
  },
  {
   "cell_type": "code",
   "execution_count": 46,
   "id": "15d430df",
   "metadata": {},
   "outputs": [
    {
     "name": "stdout",
     "output_type": "stream",
     "text": [
      "\n",
      "=== 📌 Example 1: Strict Match - 'heart' ===\n",
      "📤 STDOUT:\n",
      "INFO: \u001b[36m[INFO]\u001b[0m Loaded Unicode name cache from: unicode_name_cache.json\n",
      "INFO: \u001b[36m[INFO]\u001b[0m Found 52 match(es) for query: 'heart'\n",
      "U+2619\t☙\tREVERSED ROTATED FLORAL HEART BULLET  (\\u2619)\n",
      "U+2661\t♡\tWHITE HEART SUIT  (\\u2661)\n",
      "U+2665\t♥\tBLACK HEART SUIT  (\\u2665)\n",
      "U+2763\t❣\tHEAVY HEART EXCLAMATION MARK ORNAMENT  (\\u2763)\n",
      "U+2764\t❤\tHEAVY BLACK HEART  (\\u2764)\n",
      "U+2765\t❥\tROTATED HEAVY BLACK HEART BULLET  (\\u2765)\n",
      "U+2766\t❦\tFLORAL HEART  (\\u2766)\n",
      "U+2767\t❧\tROTATED FLORAL HEART BULLET  (\\u2767)\n",
      "U+2E96\t⺖\tCJK RADICAL HEART ONE  (\\u2e96)\n",
      "U+2E97\t⺗\tCJK RADICAL HEART TWO  (\\u2e97)\n",
      "U+2F3C\t⼼\tKANGXI RADICAL HEART  (\\u2f3c)\n",
      "U+1F0B1\t🂱\tPLAYING CARD ACE OF HEARTS  (\\u1f0b1)\n",
      "U+1F0B2\t🂲\tPLAYING CARD TWO OF HEARTS  (\\u1f0b2)\n",
      "U+1F0B3\t🂳\tPLAYING CARD THREE OF HEARTS  (\\u1f0b3)\n",
      "U+1F0B4\t🂴\tPLAYING CARD FOUR OF HEARTS  (\\u1f0b4)\n",
      "U+1F0B5\t🂵\tPLAYING CARD FIVE OF HEARTS  (\\u1f0b5)\n",
      "U+1F0B6\t🂶\tPLAYING CARD SIX OF HEARTS  (\\u1f0b6)\n",
      "U+1F0B7\t🂷\tPLAYING CARD SEVEN OF HEARTS  (\\u1f0b7)\n",
      "U+1F0B8\t🂸\tPLAYING CARD EIGHT OF HEARTS  (\\u1f0b8)\n",
      "U+1F0B9\t🂹\tPLAYING CARD NINE OF HEARTS  (\\u1f0b9)\n",
      "U+1F0BA\t🂺\tPLAYING CARD TEN OF HEARTS  (\\u1f0ba)\n",
      "U+1F0BB\t🂻\tPLAYING CARD JACK OF HEARTS  (\\u1f0bb)\n",
      "U+1F0BC\t🂼\tPLAYING CARD KNIGHT OF HEARTS  (\\u1f0bc)\n",
      "U+1F0BD\t🂽\tPLAYING CARD QUEEN OF HEARTS  (\\u1f0bd)\n",
      "U+1F0BE\t🂾\tPLAYING CARD KING OF HEARTS  (\\u1f0be)\n",
      "U+1F394\t🎔\tHEART WITH TIP ON THE LEFT  (\\u1f394)\n",
      "U+1F491\t💑\tCOUPLE WITH HEART  (\\u1f491)\n",
      "U+1F493\t💓\tBEATING HEART  (\\u1f493)\n",
      "U+1F494\t💔\tBROKEN HEART  (\\u1f494)\n",
      "U+1F495\t💕\tTWO HEARTS  (\\u1f495)\n",
      "U+1F496\t💖\tSPARKLING HEART  (\\u1f496)\n",
      "U+1F497\t💗\tGROWING HEART  (\\u1f497)\n",
      "U+1F498\t💘\tHEART WITH ARROW  (\\u1f498)\n",
      "U+1F499\t💙\tBLUE HEART  (\\u1f499)\n",
      "U+1F49A\t💚\tGREEN HEART  (\\u1f49a)\n",
      "U+1F49B\t💛\tYELLOW HEART  (\\u1f49b)\n",
      "U+1F49C\t💜\tPURPLE HEART  (\\u1f49c)\n",
      "U+1F49D\t💝\tHEART WITH RIBBON  (\\u1f49d)\n",
      "U+1F49E\t💞\tREVOLVING HEARTS  (\\u1f49e)\n",
      "U+1F49F\t💟\tHEART DECORATION  (\\u1f49f)\n",
      "U+1F5A4\t🖤\tBLACK HEART  (\\u1f5a4)\n",
      "U+1F60D\t😍\tSMILING FACE WITH HEART-SHAPED EYES  (\\u1f60d)\n",
      "U+1F63B\t😻\tSMILING CAT FACE WITH HEART-SHAPED EYES  (\\u1f63b)\n",
      "U+1F90D\t🤍\tWHITE HEART  (\\u1f90d)\n",
      "U+1F90E\t🤎\tBROWN HEART  (\\u1f90e)\n",
      "U+1F970\t🥰\tSMILING FACE WITH SMILING EYES AND THREE HEARTS  (\\u1f970)\n",
      "U+1F9E1\t🧡\tORANGE HEART  (\\u1f9e1)\n",
      "U+1FA75\t🩵\tLIGHT BLUE HEART  (\\u1fa75)\n",
      "U+1FA76\t🩶\tGREY HEART  (\\u1fa76)\n",
      "U+1FA77\t🩷\tPINK HEART  (\\u1fa77)\n",
      "U+1FAC0\t🫀\tANATOMICAL HEART  (\\u1fac0)\n",
      "U+1FAF6\t🫶\tHEART HANDS  (\\u1faf6)\n",
      "🔚 EXIT CODE: 0\n"
     ]
    }
   ],
   "source": [
    "run_example(\"Example 1: Strict Match - 'heart'\", [\"-q\", \"heart\"])"
   ]
  },
  {
   "cell_type": "markdown",
   "id": "a336d9df",
   "metadata": {},
   "source": [
    " **Example 2:** Fuzzy Match with Typo: \"grnning\" (intended: 'grinning')"
   ]
  },
  {
   "cell_type": "code",
   "execution_count": 47,
   "id": "efaea1d3",
   "metadata": {},
   "outputs": [
    {
     "name": "stdout",
     "output_type": "stream",
     "text": [
      "\n",
      "=== 📌 Example 2: Fuzzy Match with Typo - 'grnning' (intended: 'grinning') ===\n",
      "📤 STDOUT:\n",
      "INFO: \u001b[36m[INFO]\u001b[0m Loaded Unicode name cache from: unicode_name_cache.json\n",
      "INFO: \u001b[36m[INFO]\u001b[0m No exact match found for 'grnning', trying fuzzy matching (threshold=0.7)...\n",
      "INFO: \u001b[36m[INFO]\u001b[0m Found 2 match(es) for query: 'grnning'\n",
      "U+1F48D\t💍\tRING  (\\u1f48d)\n",
      "U+1F600\t😀\tGRINNING FACE  (\\u1f600)\n",
      "🔚 EXIT CODE: 0\n"
     ]
    }
   ],
   "source": [
    "run_example(\"Example 2: Fuzzy Match with Typo - 'grnning' (intended: 'grinning')\", [\"-q\", \"grnning\", \"--fuzzy\"])"
   ]
  },
  {
   "cell_type": "markdown",
   "id": "ad153fd3",
   "metadata": {},
   "source": [
    "**Example 3:**  Unicode with Diacritics: \"acute\""
   ]
  },
  {
   "cell_type": "code",
   "execution_count": 48,
   "id": "86a4b000",
   "metadata": {},
   "outputs": [
    {
     "name": "stdout",
     "output_type": "stream",
     "text": [
      "\n",
      "=== 📌 Example 3: Diacritics - 'acute' ===\n",
      "📤 STDOUT:\n",
      "INFO: \u001b[36m[INFO]\u001b[0m Loaded Unicode name cache from: unicode_name_cache.json\n",
      "INFO: \u001b[36m[INFO]\u001b[0m Found 98 match(es) for query: 'acute'\n",
      "U+00B4\t´\tACUTE ACCENT  (\\u00b4)\n",
      "U+00C1\tÁ\tLATIN CAPITAL LETTER A WITH ACUTE  (\\u00c1)\n",
      "U+00C9\tÉ\tLATIN CAPITAL LETTER E WITH ACUTE  (\\u00c9)\n",
      "U+00CD\tÍ\tLATIN CAPITAL LETTER I WITH ACUTE  (\\u00cd)\n",
      "U+00D3\tÓ\tLATIN CAPITAL LETTER O WITH ACUTE  (\\u00d3)\n",
      "U+00DA\tÚ\tLATIN CAPITAL LETTER U WITH ACUTE  (\\u00da)\n",
      "U+00DD\tÝ\tLATIN CAPITAL LETTER Y WITH ACUTE  (\\u00dd)\n",
      "U+00E1\tá\tLATIN SMALL LETTER A WITH ACUTE  (\\u00e1)\n",
      "U+00E9\té\tLATIN SMALL LETTER E WITH ACUTE  (\\u00e9)\n",
      "U+00ED\tí\tLATIN SMALL LETTER I WITH ACUTE  (\\u00ed)\n",
      "U+00F3\tó\tLATIN SMALL LETTER O WITH ACUTE  (\\u00f3)\n",
      "U+00FA\tú\tLATIN SMALL LETTER U WITH ACUTE  (\\u00fa)\n",
      "U+00FD\tý\tLATIN SMALL LETTER Y WITH ACUTE  (\\u00fd)\n",
      "U+0106\tĆ\tLATIN CAPITAL LETTER C WITH ACUTE  (\\u0106)\n",
      "U+0107\tć\tLATIN SMALL LETTER C WITH ACUTE  (\\u0107)\n",
      "U+0139\tĹ\tLATIN CAPITAL LETTER L WITH ACUTE  (\\u0139)\n",
      "U+013A\tĺ\tLATIN SMALL LETTER L WITH ACUTE  (\\u013a)\n",
      "U+0143\tŃ\tLATIN CAPITAL LETTER N WITH ACUTE  (\\u0143)\n",
      "U+0144\tń\tLATIN SMALL LETTER N WITH ACUTE  (\\u0144)\n",
      "U+0150\tŐ\tLATIN CAPITAL LETTER O WITH DOUBLE ACUTE  (\\u0150)\n",
      "U+0151\tő\tLATIN SMALL LETTER O WITH DOUBLE ACUTE  (\\u0151)\n",
      "U+0154\tŔ\tLATIN CAPITAL LETTER R WITH ACUTE  (\\u0154)\n",
      "U+0155\tŕ\tLATIN SMALL LETTER R WITH ACUTE  (\\u0155)\n",
      "U+015A\tŚ\tLATIN CAPITAL LETTER S WITH ACUTE  (\\u015a)\n",
      "U+015B\tś\tLATIN SMALL LETTER S WITH ACUTE  (\\u015b)\n",
      "U+0170\tŰ\tLATIN CAPITAL LETTER U WITH DOUBLE ACUTE  (\\u0170)\n",
      "U+0171\tű\tLATIN SMALL LETTER U WITH DOUBLE ACUTE  (\\u0171)\n",
      "U+0179\tŹ\tLATIN CAPITAL LETTER Z WITH ACUTE  (\\u0179)\n",
      "U+017A\tź\tLATIN SMALL LETTER Z WITH ACUTE  (\\u017a)\n",
      "U+01D7\tǗ\tLATIN CAPITAL LETTER U WITH DIAERESIS AND ACUTE  (\\u01d7)\n",
      "U+01D8\tǘ\tLATIN SMALL LETTER U WITH DIAERESIS AND ACUTE  (\\u01d8)\n",
      "U+01F4\tǴ\tLATIN CAPITAL LETTER G WITH ACUTE  (\\u01f4)\n",
      "U+01F5\tǵ\tLATIN SMALL LETTER G WITH ACUTE  (\\u01f5)\n",
      "U+01FA\tǺ\tLATIN CAPITAL LETTER A WITH RING ABOVE AND ACUTE  (\\u01fa)\n",
      "U+01FB\tǻ\tLATIN SMALL LETTER A WITH RING ABOVE AND ACUTE  (\\u01fb)\n",
      "U+01FC\tǼ\tLATIN CAPITAL LETTER AE WITH ACUTE  (\\u01fc)\n",
      "U+01FD\tǽ\tLATIN SMALL LETTER AE WITH ACUTE  (\\u01fd)\n",
      "U+01FE\tǾ\tLATIN CAPITAL LETTER O WITH STROKE AND ACUTE  (\\u01fe)\n",
      "U+01FF\tǿ\tLATIN SMALL LETTER O WITH STROKE AND ACUTE  (\\u01ff)\n",
      "U+02CA\tˊ\tMODIFIER LETTER ACUTE ACCENT  (\\u02ca)\n",
      "U+02CF\tˏ\tMODIFIER LETTER LOW ACUTE ACCENT  (\\u02cf)\n",
      "U+02DD\t˝\tDOUBLE ACUTE ACCENT  (\\u02dd)\n",
      "U+02F6\t˶\tMODIFIER LETTER MIDDLE DOUBLE ACUTE ACCENT  (\\u02f6)\n",
      "U+0301\t́\tCOMBINING ACUTE ACCENT  (\\u0301)\n",
      "U+030B\t̋\tCOMBINING DOUBLE ACUTE ACCENT  (\\u030b)\n",
      "U+0317\t̗\tCOMBINING ACUTE ACCENT BELOW  (\\u0317)\n",
      "U+0341\t́\tCOMBINING ACUTE TONE MARK  (\\u0341)\n",
      "U+03D3\tϓ\tGREEK UPSILON WITH ACUTE AND HOOK SYMBOL  (\\u03d3)\n",
      "U+04F2\tӲ\tCYRILLIC CAPITAL LETTER U WITH DOUBLE ACUTE  (\\u04f2)\n",
      "U+04F3\tӳ\tCYRILLIC SMALL LETTER U WITH DOUBLE ACUTE  (\\u04f3)\n",
      "U+0954\t॔\tDEVANAGARI ACUTE ACCENT  (\\u0954)\n",
      "U+141F\tᐟ\tCANADIAN SYLLABICS FINAL ACUTE  (\\u141f)\n",
      "U+1425\tᐥ\tCANADIAN SYLLABICS FINAL DOUBLE ACUTE  (\\u1425)\n",
      "U+1ACB\t᫋\tCOMBINING TRIPLE ACUTE ACCENT  (\\u1acb)\n",
      "U+1DC1\t᷁\tCOMBINING DOTTED ACUTE ACCENT  (\\u1dc1)\n",
      "U+1DC4\t᷄\tCOMBINING MACRON-ACUTE  (\\u1dc4)\n",
      "U+1DC7\t᷇\tCOMBINING ACUTE-MACRON  (\\u1dc7)\n",
      "U+1DC8\t᷈\tCOMBINING GRAVE-ACUTE-GRAVE  (\\u1dc8)\n",
      "U+1DC9\t᷉\tCOMBINING ACUTE-GRAVE-ACUTE  (\\u1dc9)\n",
      "U+1E08\tḈ\tLATIN CAPITAL LETTER C WITH CEDILLA AND ACUTE  (\\u1e08)\n",
      "U+1E09\tḉ\tLATIN SMALL LETTER C WITH CEDILLA AND ACUTE  (\\u1e09)\n",
      "U+1E16\tḖ\tLATIN CAPITAL LETTER E WITH MACRON AND ACUTE  (\\u1e16)\n",
      "U+1E17\tḗ\tLATIN SMALL LETTER E WITH MACRON AND ACUTE  (\\u1e17)\n",
      "U+1E2E\tḮ\tLATIN CAPITAL LETTER I WITH DIAERESIS AND ACUTE  (\\u1e2e)\n",
      "U+1E2F\tḯ\tLATIN SMALL LETTER I WITH DIAERESIS AND ACUTE  (\\u1e2f)\n",
      "U+1E30\tḰ\tLATIN CAPITAL LETTER K WITH ACUTE  (\\u1e30)\n",
      "U+1E31\tḱ\tLATIN SMALL LETTER K WITH ACUTE  (\\u1e31)\n",
      "U+1E3E\tḾ\tLATIN CAPITAL LETTER M WITH ACUTE  (\\u1e3e)\n",
      "U+1E3F\tḿ\tLATIN SMALL LETTER M WITH ACUTE  (\\u1e3f)\n",
      "U+1E4C\tṌ\tLATIN CAPITAL LETTER O WITH TILDE AND ACUTE  (\\u1e4c)\n",
      "U+1E4D\tṍ\tLATIN SMALL LETTER O WITH TILDE AND ACUTE  (\\u1e4d)\n",
      "U+1E52\tṒ\tLATIN CAPITAL LETTER O WITH MACRON AND ACUTE  (\\u1e52)\n",
      "U+1E53\tṓ\tLATIN SMALL LETTER O WITH MACRON AND ACUTE  (\\u1e53)\n",
      "U+1E54\tṔ\tLATIN CAPITAL LETTER P WITH ACUTE  (\\u1e54)\n",
      "U+1E55\tṕ\tLATIN SMALL LETTER P WITH ACUTE  (\\u1e55)\n",
      "U+1E64\tṤ\tLATIN CAPITAL LETTER S WITH ACUTE AND DOT ABOVE  (\\u1e64)\n",
      "U+1E65\tṥ\tLATIN SMALL LETTER S WITH ACUTE AND DOT ABOVE  (\\u1e65)\n",
      "U+1E78\tṸ\tLATIN CAPITAL LETTER U WITH TILDE AND ACUTE  (\\u1e78)\n",
      "U+1E79\tṹ\tLATIN SMALL LETTER U WITH TILDE AND ACUTE  (\\u1e79)\n",
      "U+1E82\tẂ\tLATIN CAPITAL LETTER W WITH ACUTE  (\\u1e82)\n",
      "U+1E83\tẃ\tLATIN SMALL LETTER W WITH ACUTE  (\\u1e83)\n",
      "U+1EA4\tẤ\tLATIN CAPITAL LETTER A WITH CIRCUMFLEX AND ACUTE  (\\u1ea4)\n",
      "U+1EA5\tấ\tLATIN SMALL LETTER A WITH CIRCUMFLEX AND ACUTE  (\\u1ea5)\n",
      "U+1EAE\tẮ\tLATIN CAPITAL LETTER A WITH BREVE AND ACUTE  (\\u1eae)\n",
      "U+1EAF\tắ\tLATIN SMALL LETTER A WITH BREVE AND ACUTE  (\\u1eaf)\n",
      "U+1EBE\tẾ\tLATIN CAPITAL LETTER E WITH CIRCUMFLEX AND ACUTE  (\\u1ebe)\n",
      "U+1EBF\tế\tLATIN SMALL LETTER E WITH CIRCUMFLEX AND ACUTE  (\\u1ebf)\n",
      "U+1ED0\tỐ\tLATIN CAPITAL LETTER O WITH CIRCUMFLEX AND ACUTE  (\\u1ed0)\n",
      "U+1ED1\tố\tLATIN SMALL LETTER O WITH CIRCUMFLEX AND ACUTE  (\\u1ed1)\n",
      "U+1EDA\tỚ\tLATIN CAPITAL LETTER O WITH HORN AND ACUTE  (\\u1eda)\n",
      "U+1EDB\tớ\tLATIN SMALL LETTER O WITH HORN AND ACUTE  (\\u1edb)\n",
      "U+1EE8\tỨ\tLATIN CAPITAL LETTER U WITH HORN AND ACUTE  (\\u1ee8)\n",
      "U+1EE9\tứ\tLATIN SMALL LETTER U WITH HORN AND ACUTE  (\\u1ee9)\n",
      "U+299F\t⦟\tACUTE ANGLE  (\\u299f)\n",
      "U+1BC80\t𛲀\tDUPLOYAN AFFIX HIGH ACUTE  (\\u1bc80)\n",
      "U+1BC81\t𛲁\tDUPLOYAN AFFIX HIGH TIGHT ACUTE  (\\u1bc81)\n",
      "U+1BC90\t𛲐\tDUPLOYAN AFFIX LOW ACUTE  (\\u1bc90)\n",
      "U+1BC91\t𛲑\tDUPLOYAN AFFIX LOW TIGHT ACUTE  (\\u1bc91)\n",
      "🔚 EXIT CODE: 0\n"
     ]
    }
   ],
   "source": [
    "run_example(\"Example 3: Diacritics - 'acute'\", [\"-q\", \"acute\"])"
   ]
  },
  {
   "cell_type": "markdown",
   "id": "5938ca2f",
   "metadata": {},
   "source": [
    "**Example 4:** Partial Word Match: \"snow\""
   ]
  },
  {
   "cell_type": "code",
   "execution_count": 49,
   "id": "f4ec50d2",
   "metadata": {},
   "outputs": [
    {
     "name": "stdout",
     "output_type": "stream",
     "text": [
      "\n",
      "=== 📌 Example 4: Partial Word - 'snow' ===\n",
      "📤 STDOUT:\n",
      "INFO: \u001b[36m[INFO]\u001b[0m Loaded Unicode name cache from: unicode_name_cache.json\n",
      "INFO: \u001b[36m[INFO]\u001b[0m Found 9 match(es) for query: 'snow'\n",
      "U+2603\t☃\tSNOWMAN  (\\u2603)\n",
      "U+26C4\t⛄\tSNOWMAN WITHOUT SNOW  (\\u26c4)\n",
      "U+26C7\t⛇\tBLACK SNOWMAN  (\\u26c7)\n",
      "U+2744\t❄\tSNOWFLAKE  (\\u2744)\n",
      "U+2745\t❅\tTIGHT TRIFOLIATE SNOWFLAKE  (\\u2745)\n",
      "U+2746\t❆\tHEAVY CHEVRON SNOWFLAKE  (\\u2746)\n",
      "U+1F328\t🌨\tCLOUD WITH SNOW  (\\u1f328)\n",
      "U+1F3C2\t🏂\tSNOWBOARDER  (\\u1f3c2)\n",
      "U+1F3D4\t🏔\tSNOW CAPPED MOUNTAIN  (\\u1f3d4)\n",
      "🔚 EXIT CODE: 0\n"
     ]
    }
   ],
   "source": [
    "run_example(\"Example 4: Partial Word - 'snow'\", [\"-q\", \"snow\"])"
   ]
  },
  {
   "cell_type": "markdown",
   "id": "bc36366d",
   "metadata": {},
   "source": [
    "**Example 5:** Tweaking Fuzzy Matching Threshold"
   ]
  },
  {
   "cell_type": "code",
   "execution_count": 50,
   "id": "6812f376",
   "metadata": {},
   "outputs": [
    {
     "name": "stdout",
     "output_type": "stream",
     "text": [
      "\n",
      "=== 📌 Example 5a: Fuzzy Match (threshold 0.7) ===\n",
      "📤 STDOUT:\n",
      "INFO: \u001b[36m[INFO]\u001b[0m Loaded Unicode name cache from: unicode_name_cache.json\n",
      "INFO: \u001b[36m[INFO]\u001b[0m No exact match found for 'grnning', trying fuzzy matching (threshold=0.7)...\n",
      "INFO: \u001b[36m[INFO]\u001b[0m Found 2 match(es) for query: 'grnning'\n",
      "U+1F48D\t💍\tRING  (\\u1f48d)\n",
      "U+1F600\t😀\tGRINNING FACE  (\\u1f600)\n",
      "🔚 EXIT CODE: 0\n"
     ]
    }
   ],
   "source": [
    "# Moderate Threshold (Default)\n",
    "run_example(\"Example 5a: Fuzzy Match (threshold 0.7)\", [\"-q\", \"grnning\", \"--fuzzy\", \"--threshold\", \"0.7\"])"
   ]
  },
  {
   "cell_type": "code",
   "execution_count": 51,
   "id": "b0b63001",
   "metadata": {},
   "outputs": [
    {
     "name": "stdout",
     "output_type": "stream",
     "text": [
      "\n",
      "=== 📌 Example 5b: Fuzzy Match (threshold 0.6) ===\n",
      "📤 STDOUT:\n",
      "INFO: \u001b[36m[INFO]\u001b[0m Loaded Unicode name cache from: unicode_name_cache.json\n",
      "INFO: \u001b[36m[INFO]\u001b[0m No exact match found for 'grnning', trying fuzzy matching (threshold=0.6)...\n",
      "INFO: \u001b[36m[INFO]\u001b[0m Found 3 match(es) for query: 'grnning'\n",
      "U+2607\t☇\tLIGHTNING  (\\u2607)\n",
      "U+1F48D\t💍\tRING  (\\u1f48d)\n",
      "U+1F600\t😀\tGRINNING FACE  (\\u1f600)\n",
      "🔚 EXIT CODE: 0\n"
     ]
    }
   ],
   "source": [
    "# Loose Threshold\n",
    "run_example(\"Example 5b: Fuzzy Match (threshold 0.6)\", [\"-q\", \"grnning\", \"--fuzzy\", \"--threshold\", \"0.6\"])"
   ]
  },
  {
   "cell_type": "code",
   "execution_count": 52,
   "id": "2cc88503",
   "metadata": {},
   "outputs": [
    {
     "name": "stdout",
     "output_type": "stream",
     "text": [
      "\n",
      "=== 📌 Example 5c: Fuzzy Match (threshold 0.71) ===\n",
      "📤 STDOUT:\n",
      "INFO: \u001b[36m[INFO]\u001b[0m Loaded Unicode name cache from: unicode_name_cache.json\n",
      "INFO: \u001b[36m[INFO]\u001b[0m No exact match found for 'grnning', trying fuzzy matching (threshold=0.71)...\n",
      "INFO: \u001b[36m[INFO]\u001b[0m Found 1 match(es) for query: 'grnning'\n",
      "U+1F48D\t💍\tRING  (\\u1f48d)\n",
      "🔚 EXIT CODE: 0\n"
     ]
    }
   ],
   "source": [
    "#  Strict Threshold\n",
    "run_example(\"Example 5c: Fuzzy Match (threshold 0.71)\", [\"-q\", \"grnning\", \"--fuzzy\", \"--threshold\", \"0.71\"])"
   ]
  },
  {
   "cell_type": "markdown",
   "id": "1c0ceb31",
   "metadata": {},
   "source": [
    "**Example 6:** Quiet Execution (without logs and prints)"
   ]
  },
  {
   "cell_type": "code",
   "execution_count": 54,
   "id": "d108e841",
   "metadata": {},
   "outputs": [
    {
     "name": "stdout",
     "output_type": "stream",
     "text": [
      "\n",
      "=== 📌 Example 6: Quiet ===\n",
      "📤 STDOUT:\n",
      "U+2619\t☙\tREVERSED ROTATED FLORAL HEART BULLET  (\\u2619)\n",
      "U+2661\t♡\tWHITE HEART SUIT  (\\u2661)\n",
      "U+2665\t♥\tBLACK HEART SUIT  (\\u2665)\n",
      "U+2763\t❣\tHEAVY HEART EXCLAMATION MARK ORNAMENT  (\\u2763)\n",
      "U+2764\t❤\tHEAVY BLACK HEART  (\\u2764)\n",
      "U+2765\t❥\tROTATED HEAVY BLACK HEART BULLET  (\\u2765)\n",
      "U+2766\t❦\tFLORAL HEART  (\\u2766)\n",
      "U+2767\t❧\tROTATED FLORAL HEART BULLET  (\\u2767)\n",
      "U+2E96\t⺖\tCJK RADICAL HEART ONE  (\\u2e96)\n",
      "U+2E97\t⺗\tCJK RADICAL HEART TWO  (\\u2e97)\n",
      "U+2F3C\t⼼\tKANGXI RADICAL HEART  (\\u2f3c)\n",
      "U+1F0B1\t🂱\tPLAYING CARD ACE OF HEARTS  (\\u1f0b1)\n",
      "U+1F0B2\t🂲\tPLAYING CARD TWO OF HEARTS  (\\u1f0b2)\n",
      "U+1F0B3\t🂳\tPLAYING CARD THREE OF HEARTS  (\\u1f0b3)\n",
      "U+1F0B4\t🂴\tPLAYING CARD FOUR OF HEARTS  (\\u1f0b4)\n",
      "U+1F0B5\t🂵\tPLAYING CARD FIVE OF HEARTS  (\\u1f0b5)\n",
      "U+1F0B6\t🂶\tPLAYING CARD SIX OF HEARTS  (\\u1f0b6)\n",
      "U+1F0B7\t🂷\tPLAYING CARD SEVEN OF HEARTS  (\\u1f0b7)\n",
      "U+1F0B8\t🂸\tPLAYING CARD EIGHT OF HEARTS  (\\u1f0b8)\n",
      "U+1F0B9\t🂹\tPLAYING CARD NINE OF HEARTS  (\\u1f0b9)\n",
      "U+1F0BA\t🂺\tPLAYING CARD TEN OF HEARTS  (\\u1f0ba)\n",
      "U+1F0BB\t🂻\tPLAYING CARD JACK OF HEARTS  (\\u1f0bb)\n",
      "U+1F0BC\t🂼\tPLAYING CARD KNIGHT OF HEARTS  (\\u1f0bc)\n",
      "U+1F0BD\t🂽\tPLAYING CARD QUEEN OF HEARTS  (\\u1f0bd)\n",
      "U+1F0BE\t🂾\tPLAYING CARD KING OF HEARTS  (\\u1f0be)\n",
      "U+1F394\t🎔\tHEART WITH TIP ON THE LEFT  (\\u1f394)\n",
      "U+1F491\t💑\tCOUPLE WITH HEART  (\\u1f491)\n",
      "U+1F493\t💓\tBEATING HEART  (\\u1f493)\n",
      "U+1F494\t💔\tBROKEN HEART  (\\u1f494)\n",
      "U+1F495\t💕\tTWO HEARTS  (\\u1f495)\n",
      "U+1F496\t💖\tSPARKLING HEART  (\\u1f496)\n",
      "U+1F497\t💗\tGROWING HEART  (\\u1f497)\n",
      "U+1F498\t💘\tHEART WITH ARROW  (\\u1f498)\n",
      "U+1F499\t💙\tBLUE HEART  (\\u1f499)\n",
      "U+1F49A\t💚\tGREEN HEART  (\\u1f49a)\n",
      "U+1F49B\t💛\tYELLOW HEART  (\\u1f49b)\n",
      "U+1F49C\t💜\tPURPLE HEART  (\\u1f49c)\n",
      "U+1F49D\t💝\tHEART WITH RIBBON  (\\u1f49d)\n",
      "U+1F49E\t💞\tREVOLVING HEARTS  (\\u1f49e)\n",
      "U+1F49F\t💟\tHEART DECORATION  (\\u1f49f)\n",
      "U+1F5A4\t🖤\tBLACK HEART  (\\u1f5a4)\n",
      "U+1F60D\t😍\tSMILING FACE WITH HEART-SHAPED EYES  (\\u1f60d)\n",
      "U+1F63B\t😻\tSMILING CAT FACE WITH HEART-SHAPED EYES  (\\u1f63b)\n",
      "U+1F90D\t🤍\tWHITE HEART  (\\u1f90d)\n",
      "U+1F90E\t🤎\tBROWN HEART  (\\u1f90e)\n",
      "U+1F970\t🥰\tSMILING FACE WITH SMILING EYES AND THREE HEARTS  (\\u1f970)\n",
      "U+1F9E1\t🧡\tORANGE HEART  (\\u1f9e1)\n",
      "U+1FA75\t🩵\tLIGHT BLUE HEART  (\\u1fa75)\n",
      "U+1FA76\t🩶\tGREY HEART  (\\u1fa76)\n",
      "U+1FA77\t🩷\tPINK HEART  (\\u1fa77)\n",
      "U+1FAC0\t🫀\tANATOMICAL HEART  (\\u1fac0)\n",
      "U+1FAF6\t🫶\tHEART HANDS  (\\u1faf6)\n",
      "🔚 EXIT CODE: 0\n"
     ]
    }
   ],
   "source": [
    "run_example(\"Example 6: Quiet\", [\"-q\", \"heart\", \"--fuzzy\", \"--threshold\", \"0.71\", \"--quiet\", \"--color\", \"always\"])"
   ]
  },
  {
   "cell_type": "markdown",
   "id": "1cdfbacc",
   "metadata": {},
   "source": [
    "**Example 7:** Colorless Execution"
   ]
  },
  {
   "cell_type": "code",
   "execution_count": 57,
   "id": "c25f4d97",
   "metadata": {},
   "outputs": [
    {
     "name": "stdout",
     "output_type": "stream",
     "text": [
      "\n",
      "=== 📌 Example 7: Colorless ===\n",
      "📤 STDOUT:\n",
      "INFO: \u001b[36m[INFO]\u001b[0m Loaded Unicode name cache from: unicode_name_cache.json\n",
      "INFO: \u001b[36m[INFO]\u001b[0m Found 52 match(es) for query: 'heart'\n",
      "U+2619\t☙\tREVERSED ROTATED FLORAL HEART BULLET  (\\u2619)\n",
      "U+2661\t♡\tWHITE HEART SUIT  (\\u2661)\n",
      "U+2665\t♥\tBLACK HEART SUIT  (\\u2665)\n",
      "U+2763\t❣\tHEAVY HEART EXCLAMATION MARK ORNAMENT  (\\u2763)\n",
      "U+2764\t❤\tHEAVY BLACK HEART  (\\u2764)\n",
      "U+2765\t❥\tROTATED HEAVY BLACK HEART BULLET  (\\u2765)\n",
      "U+2766\t❦\tFLORAL HEART  (\\u2766)\n",
      "U+2767\t❧\tROTATED FLORAL HEART BULLET  (\\u2767)\n",
      "U+2E96\t⺖\tCJK RADICAL HEART ONE  (\\u2e96)\n",
      "U+2E97\t⺗\tCJK RADICAL HEART TWO  (\\u2e97)\n",
      "U+2F3C\t⼼\tKANGXI RADICAL HEART  (\\u2f3c)\n",
      "U+1F0B1\t🂱\tPLAYING CARD ACE OF HEARTS  (\\u1f0b1)\n",
      "U+1F0B2\t🂲\tPLAYING CARD TWO OF HEARTS  (\\u1f0b2)\n",
      "U+1F0B3\t🂳\tPLAYING CARD THREE OF HEARTS  (\\u1f0b3)\n",
      "U+1F0B4\t🂴\tPLAYING CARD FOUR OF HEARTS  (\\u1f0b4)\n",
      "U+1F0B5\t🂵\tPLAYING CARD FIVE OF HEARTS  (\\u1f0b5)\n",
      "U+1F0B6\t🂶\tPLAYING CARD SIX OF HEARTS  (\\u1f0b6)\n",
      "U+1F0B7\t🂷\tPLAYING CARD SEVEN OF HEARTS  (\\u1f0b7)\n",
      "U+1F0B8\t🂸\tPLAYING CARD EIGHT OF HEARTS  (\\u1f0b8)\n",
      "U+1F0B9\t🂹\tPLAYING CARD NINE OF HEARTS  (\\u1f0b9)\n",
      "U+1F0BA\t🂺\tPLAYING CARD TEN OF HEARTS  (\\u1f0ba)\n",
      "U+1F0BB\t🂻\tPLAYING CARD JACK OF HEARTS  (\\u1f0bb)\n",
      "U+1F0BC\t🂼\tPLAYING CARD KNIGHT OF HEARTS  (\\u1f0bc)\n",
      "U+1F0BD\t🂽\tPLAYING CARD QUEEN OF HEARTS  (\\u1f0bd)\n",
      "U+1F0BE\t🂾\tPLAYING CARD KING OF HEARTS  (\\u1f0be)\n",
      "U+1F394\t🎔\tHEART WITH TIP ON THE LEFT  (\\u1f394)\n",
      "U+1F491\t💑\tCOUPLE WITH HEART  (\\u1f491)\n",
      "U+1F493\t💓\tBEATING HEART  (\\u1f493)\n",
      "U+1F494\t💔\tBROKEN HEART  (\\u1f494)\n",
      "U+1F495\t💕\tTWO HEARTS  (\\u1f495)\n",
      "U+1F496\t💖\tSPARKLING HEART  (\\u1f496)\n",
      "U+1F497\t💗\tGROWING HEART  (\\u1f497)\n",
      "U+1F498\t💘\tHEART WITH ARROW  (\\u1f498)\n",
      "U+1F499\t💙\tBLUE HEART  (\\u1f499)\n",
      "U+1F49A\t💚\tGREEN HEART  (\\u1f49a)\n",
      "U+1F49B\t💛\tYELLOW HEART  (\\u1f49b)\n",
      "U+1F49C\t💜\tPURPLE HEART  (\\u1f49c)\n",
      "U+1F49D\t💝\tHEART WITH RIBBON  (\\u1f49d)\n",
      "U+1F49E\t💞\tREVOLVING HEARTS  (\\u1f49e)\n",
      "U+1F49F\t💟\tHEART DECORATION  (\\u1f49f)\n",
      "U+1F5A4\t🖤\tBLACK HEART  (\\u1f5a4)\n",
      "U+1F60D\t😍\tSMILING FACE WITH HEART-SHAPED EYES  (\\u1f60d)\n",
      "U+1F63B\t😻\tSMILING CAT FACE WITH HEART-SHAPED EYES  (\\u1f63b)\n",
      "U+1F90D\t🤍\tWHITE HEART  (\\u1f90d)\n",
      "U+1F90E\t🤎\tBROWN HEART  (\\u1f90e)\n",
      "U+1F970\t🥰\tSMILING FACE WITH SMILING EYES AND THREE HEARTS  (\\u1f970)\n",
      "U+1F9E1\t🧡\tORANGE HEART  (\\u1f9e1)\n",
      "U+1FA75\t🩵\tLIGHT BLUE HEART  (\\u1fa75)\n",
      "U+1FA76\t🩶\tGREY HEART  (\\u1fa76)\n",
      "U+1FA77\t🩷\tPINK HEART  (\\u1fa77)\n",
      "U+1FAC0\t🫀\tANATOMICAL HEART  (\\u1fac0)\n",
      "U+1FAF6\t🫶\tHEART HANDS  (\\u1faf6)\n",
      "🔚 EXIT CODE: 0\n"
     ]
    }
   ],
   "source": [
    "run_example(\"Example 7: Colorless\", [\"-q\", \"heart\", \"--fuzzy\", \"--threshold\", \"0.71\", \"--color\", \"never\"])"
   ]
  },
  {
   "cell_type": "code",
   "execution_count": null,
   "id": "f04c8c07",
   "metadata": {},
   "outputs": [],
   "source": []
  }
 ],
 "metadata": {
  "kernelspec": {
   "display_name": ".venv",
   "language": "python",
   "name": "python3"
  },
  "language_info": {
   "codemirror_mode": {
    "name": "ipython",
    "version": 3
   },
   "file_extension": ".py",
   "mimetype": "text/x-python",
   "name": "python",
   "nbconvert_exporter": "python",
   "pygments_lexer": "ipython3",
   "version": "3.13.0"
  }
 },
 "nbformat": 4,
 "nbformat_minor": 5
}
